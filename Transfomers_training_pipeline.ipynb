{
  "cells": [
    {
      "cell_type": "markdown",
      "id": "1a62d887-01aa-4980-9220-3bf28c077504",
      "metadata": {
        "id": "1a62d887-01aa-4980-9220-3bf28c077504"
      },
      "source": [
        "### Домашнее задание Transformers Training (50 баллов)"
      ]
    },
    {
      "cell_type": "markdown",
      "id": "f31d7452-febe-4d25-a9c1-005fcc26b35b",
      "metadata": {
        "id": "f31d7452-febe-4d25-a9c1-005fcc26b35b"
      },
      "source": [
        "В этом домашнем задании требуется обучить несколько Transformer-based моделей в задаче машинного перевода. Для обучения можно воспользоваться текущим проектом, так и реализовать свой пайплайн обучения. Если будете использовать проект, теги **TODO** проекта отмечают, какие компоненты надо реализовать.\n",
        "В ноутбуке нужно только отобразить результаты обучения и выводы. Архитектура модели(количетсво слоев, размерность и тд) остается на ваш выбор.\n",
        "\n",
        "Ваш код обучения нужно выложить на ваш github, в строке ниже дать ссылку на него. В первую очередь будут оцениваться результаты в ноутбуке, код нужен для проверки адекватности результатов.\n",
        "\n",
        "Обучать модели до конца не нужно, только для демонстрации, что модель обучается и рабочая - снижение val_loss, рост bleu_score."
      ]
    },
    {
      "cell_type": "markdown",
      "id": "a691e7b9-6538-42b1-96b8-838f2efab4af",
      "metadata": {
        "id": "a691e7b9-6538-42b1-96b8-838f2efab4af"
      },
      "source": [
        "#### Сcылка на ваш github с проектом(вставить свой) - https://github.com/runnerup96/pytorch-machine-translation\n",
        "\n",
        "Ноутбук с результатами выкладывать на ваш **google диск** курса."
      ]
    },
    {
      "cell_type": "markdown",
      "id": "dbca1e62-b210-4426-9854-55b652417a4b",
      "metadata": {
        "id": "dbca1e62-b210-4426-9854-55b652417a4b"
      },
      "source": [
        "### Данные\n",
        "\n",
        "`\n",
        "wget https://www.manythings.org/anki/rus-eng.zip && unzip rus-eng.zip\n",
        "`\n",
        "\n",
        "Модели нужно обучить на задаче перевода с английского на русский."
      ]
    },
    {
      "cell_type": "code",
      "execution_count": 1,
      "id": "710e84de-f7a4-46da-a611-74c90a67e24b",
      "metadata": {
        "colab": {
          "base_uri": "https://localhost:8080/"
        },
        "id": "710e84de-f7a4-46da-a611-74c90a67e24b",
        "outputId": "561871fa-45e8-4bb8-f053-d7a833060c0b",
        "collapsed": true
      },
      "outputs": [
        {
          "output_type": "stream",
          "name": "stdout",
          "text": [
            "--2024-05-27 20:19:46--  https://www.manythings.org/anki/rus-eng.zip\n",
            "Resolving www.manythings.org (www.manythings.org)... 173.254.30.110\n",
            "Connecting to www.manythings.org (www.manythings.org)|173.254.30.110|:443... connected.\n",
            "HTTP request sent, awaiting response... 200 OK\n",
            "Length: 16305013 (16M) [application/zip]\n",
            "Saving to: ‘rus-eng.zip’\n",
            "\n",
            "rus-eng.zip         100%[===================>]  15.55M  50.7MB/s    in 0.3s    \n",
            "\n",
            "2024-05-27 20:19:47 (50.7 MB/s) - ‘rus-eng.zip’ saved [16305013/16305013]\n",
            "\n",
            "Archive:  rus-eng.zip\n",
            "  inflating: rus.txt                 \n",
            "  inflating: _about.txt              \n"
          ]
        }
      ],
      "source": [
        "!wget https://www.manythings.org/anki/rus-eng.zip && unzip rus-eng.zip"
      ]
    },
    {
      "cell_type": "code",
      "source": [
        "with open(\"/content/rus.txt\", mode=\"r\", encoding=\"utf-8\") as f:\n",
        "            lines = f.read().strip().split(\"\\n\")"
      ],
      "metadata": {
        "id": "0DOEJ8Y4zWy_"
      },
      "id": "0DOEJ8Y4zWy_",
      "execution_count": 2,
      "outputs": []
    },
    {
      "cell_type": "code",
      "source": [
        "lines[10].split(\"\\t\")[:2]"
      ],
      "metadata": {
        "colab": {
          "base_uri": "https://localhost:8080/"
        },
        "id": "I2lEkHJvzbZF",
        "outputId": "a1d11aad-42e3-4899-e1a4-2fa53990267f"
      },
      "id": "I2lEkHJvzbZF",
      "execution_count": 3,
      "outputs": [
        {
          "output_type": "execute_result",
          "data": {
            "text/plain": [
              "['Run!', 'Бегите!']"
            ]
          },
          "metadata": {},
          "execution_count": 3
        }
      ]
    },
    {
      "cell_type": "code",
      "source": [
        "import re\n",
        "from tqdm import tqdm\n",
        "\n",
        "def preprocess_texts(text):\n",
        "    text = text.lower()\n",
        "    text = re.sub(r\"([.!?])\", r\" \\1\", text)\n",
        "    text = re.sub(r\"[^a-zA-Zа-яйёьъА-Яй]+\", r\" \", text)\n",
        "    return text.strip()\n",
        "\n",
        "def read_dataset(filepath):\n",
        "        with open(filepath, mode=\"r\", encoding=\"utf-8\") as f:\n",
        "            lines = f.read().strip().split(\"\\n\")\n",
        "\n",
        "        translations = []\n",
        "        for line in tqdm(lines, desc=\"Collecting pairs\"):\n",
        "            pair = tuple(map(preprocess_texts, line.split(\"\\t\")[:2]))\n",
        "            translations.append(pair)\n",
        "\n",
        "        return translations\n",
        "\n",
        "translations = read_dataset(\"rus.txt\")\n",
        "translations_short = list(filter(lambda x: max(len(x[0].split(\" \")), len(x[1].split(\" \"))) <= 15, translations))\n",
        "print(\"Num of translations with len <= 15:\", len(translations_short))"
      ],
      "metadata": {
        "colab": {
          "base_uri": "https://localhost:8080/"
        },
        "id": "Tp_OBUaJx2qa",
        "outputId": "aa37fc18-943d-42a6-f102-4745749405c8"
      },
      "id": "Tp_OBUaJx2qa",
      "execution_count": 4,
      "outputs": [
        {
          "output_type": "stream",
          "name": "stderr",
          "text": [
            "Collecting pairs: 100%|██████████| 496059/496059 [00:08<00:00, 55858.81it/s]\n"
          ]
        },
        {
          "output_type": "stream",
          "name": "stdout",
          "text": [
            "Num of translations with len <= 15: 494101\n"
          ]
        }
      ]
    },
    {
      "cell_type": "code",
      "source": [
        "#split data\n",
        "import random\n",
        "from sklearn.model_selection import train_test_split\n",
        "train_pairs, test_pairs = train_test_split(translations_short, test_size=0.1, random_state=42)"
      ],
      "metadata": {
        "id": "m2KXiXQo-k-u"
      },
      "id": "m2KXiXQo-k-u",
      "execution_count": 5,
      "outputs": []
    },
    {
      "cell_type": "markdown",
      "source": [
        "### BPE encoding\n"
      ],
      "metadata": {
        "id": "f6ERcXWz-Bpg"
      },
      "id": "f6ERcXWz-Bpg"
    },
    {
      "cell_type": "code",
      "source": [
        "from tokenizers.models import BPE\n",
        "from tokenizers.trainers import BpeTrainer\n",
        "from tokenizers.pre_tokenizers import Whitespace\n",
        "from tokenizers.decoders import BPEDecoder\n",
        "from tokenizers.processors import TemplateProcessing\n",
        "from tokenizers import Tokenizer\n",
        "\n",
        "def train_tokenizer(texts, special_tokens, vocab_size=3000, max_len=15):\n",
        "    tokenizer = Tokenizer(BPE(unk_token=\"[UNK]\"))\n",
        "    tokenizer.pre_tokenizer = Whitespace()\n",
        "    trainer = BpeTrainer(vocab_size=vocab_size, special_tokens=special_tokens)\n",
        "    tokenizer.train_from_iterator(texts, trainer)\n",
        "    tokenizer.post_processor = TemplateProcessing(\n",
        "        single=\"[BOS] $A [EOS]\",\n",
        "        special_tokens = [\n",
        "            (\"[BOS]\", tokenizer.token_to_id(\"[BOS]\")),\n",
        "            (\"[EOS]\", tokenizer.token_to_id(\"[EOS]\"))\n",
        "        ],\n",
        "    )\n",
        "    tokenizer.decoder = BPEDecoder()\n",
        "    tokenizer.max_len=max_len\n",
        "    return tokenizer\n"
      ],
      "metadata": {
        "id": "Cvacn2D89-Yn"
      },
      "id": "Cvacn2D89-Yn",
      "execution_count": 6,
      "outputs": []
    },
    {
      "cell_type": "code",
      "source": [
        "sp_tokens = [\"[BOS]\", \"[PAD]\", \"[EOS]\", \"[UNK]\", \"[MASK]\"]\n",
        "\n",
        "train_src = [t[0] for t in train_pairs]\n",
        "train_tgt = [t[1] for t in train_pairs]\n",
        "src_tokenizer = train_tokenizer(train_src, special_tokens=sp_tokens)\n",
        "tgt_tokenizer = train_tokenizer(train_tgt, special_tokens=sp_tokens)\n",
        "\n",
        "BOS_IDX, PAD_IDX, EOS_IDX = 0, 1, 2"
      ],
      "metadata": {
        "id": "CxahNEvVH6a8"
      },
      "id": "CxahNEvVH6a8",
      "execution_count": 7,
      "outputs": []
    },
    {
      "cell_type": "code",
      "source": [
        "from torch import Tensor\n",
        "import torch\n",
        "import torch.nn as nn\n",
        "from torch.nn import Transformer\n",
        "import math\n",
        "DEVICE = torch.device('cuda' if torch.cuda.is_available() else 'cpu')\n",
        "\n",
        "# helper Module that adds positional encoding to the token embedding to introduce a notion of word order.\n",
        "class PositionalEncoding(nn.Module):\n",
        "    def __init__(self,\n",
        "                 emb_size: int,\n",
        "                 dropout: float,\n",
        "                 maxlen: int = 500):\n",
        "        super(PositionalEncoding, self).__init__()\n",
        "        den = torch.exp(- torch.arange(0, emb_size, 2)* math.log(10000) / emb_size)\n",
        "        pos = torch.arange(0, maxlen).reshape(maxlen, 1)\n",
        "        pos_embedding = torch.zeros((maxlen, emb_size))\n",
        "        pos_embedding[:, 0::2] = torch.sin(pos * den)\n",
        "        pos_embedding[:, 1::2] = torch.cos(pos * den)\n",
        "        pos_embedding = pos_embedding.unsqueeze(-2)\n",
        "\n",
        "        self.dropout = nn.Dropout(dropout)\n",
        "        self.register_buffer('pos_embedding', pos_embedding)\n",
        "\n",
        "    def forward(self, token_embedding: Tensor):\n",
        "        return self.dropout(token_embedding + self.pos_embedding[:token_embedding.size(0), :])\n",
        "\n",
        "# helper Module to convert tensor of input indices into corresponding tensor of token embeddings\n",
        "class TokenEmbedding(nn.Module):\n",
        "    def __init__(self, vocab_size: int, emb_size):\n",
        "        super(TokenEmbedding, self).__init__()\n",
        "        self.embedding = nn.Embedding(vocab_size, emb_size)\n",
        "        self.emb_size = emb_size\n",
        "\n",
        "    def forward(self, tokens: Tensor):\n",
        "        return self.embedding(tokens.long()) * math.sqrt(self.emb_size)\n",
        "\n",
        "# Seq2Seq Network\n",
        "class Seq2SeqTransformer(nn.Module):\n",
        "    def __init__(self,\n",
        "                 num_encoder_layers: int,\n",
        "                 num_decoder_layers: int,\n",
        "                 emb_size: int,\n",
        "                 nhead: int,\n",
        "                 src_vocab_size: int,\n",
        "                 tgt_vocab_size: int,\n",
        "                 dim_feedforward: int = 312,\n",
        "                 dropout: float = 0.1):\n",
        "        super(Seq2SeqTransformer, self).__init__()\n",
        "        self.transformer = Transformer(d_model=emb_size,\n",
        "                                       nhead=nhead,\n",
        "                                       num_encoder_layers=num_encoder_layers,\n",
        "                                       num_decoder_layers=num_decoder_layers,\n",
        "                                       dim_feedforward=dim_feedforward,\n",
        "                                       dropout=dropout)\n",
        "        self.generator = nn.Linear(emb_size, tgt_vocab_size)\n",
        "        self.src_tok_emb = TokenEmbedding(src_vocab_size, emb_size)\n",
        "        self.tgt_tok_emb = TokenEmbedding(tgt_vocab_size, emb_size)\n",
        "        self.positional_encoding = PositionalEncoding(\n",
        "            emb_size, dropout=dropout)\n",
        "\n",
        "    def forward(self,\n",
        "                src: Tensor,\n",
        "                trg: Tensor,\n",
        "                src_mask: Tensor,\n",
        "                tgt_mask: Tensor,\n",
        "                src_padding_mask: Tensor,\n",
        "                tgt_padding_mask: Tensor,\n",
        "                memory_key_padding_mask: Tensor):\n",
        "        src_emb = self.positional_encoding(self.src_tok_emb(src))\n",
        "        tgt_emb = self.positional_encoding(self.tgt_tok_emb(trg))\n",
        "        outs = self.transformer(src_emb, tgt_emb, src_mask, tgt_mask, None,\n",
        "                                src_padding_mask, tgt_padding_mask, memory_key_padding_mask)\n",
        "        return self.generator(outs)\n",
        "\n",
        "    def encode(self, src: Tensor, src_mask: Tensor):\n",
        "        return self.transformer.encoder(self.positional_encoding(\n",
        "                            self.src_tok_emb(src)), src_mask)\n",
        "\n",
        "    def decode(self, tgt: Tensor, memory: Tensor, tgt_mask: Tensor):\n",
        "        return self.transformer.decoder(self.positional_encoding(\n",
        "                          self.tgt_tok_emb(tgt)), memory,\n",
        "                          tgt_mask)"
      ],
      "metadata": {
        "id": "2-kuX7PnPvDO"
      },
      "id": "2-kuX7PnPvDO",
      "execution_count": 8,
      "outputs": []
    },
    {
      "cell_type": "code",
      "source": [
        "def generate_square_subsequent_mask(sz):\n",
        "    mask = (torch.triu(torch.ones((sz, sz), device=DEVICE)) == 1).transpose(0, 1)\n",
        "    mask = mask.float().masked_fill(mask == 0, float('-inf')).masked_fill(mask == 1, float(0.0))\n",
        "    return mask\n",
        "\n",
        "\n",
        "def create_mask(src, tgt):\n",
        "    src_seq_len = src.shape[0]\n",
        "    tgt_seq_len = tgt.shape[0]\n",
        "\n",
        "    tgt_mask = generate_square_subsequent_mask(tgt_seq_len)\n",
        "    src_mask = torch.zeros((src_seq_len, src_seq_len),device=DEVICE).type(torch.bool)\n",
        "\n",
        "    src_padding_mask = (src == PAD_IDX).transpose(0, 1)\n",
        "    tgt_padding_mask = (tgt == PAD_IDX).transpose(0, 1)\n",
        "    return src_mask, tgt_mask, src_padding_mask, tgt_padding_mask"
      ],
      "metadata": {
        "id": "cFOIWZeuSRNh"
      },
      "id": "cFOIWZeuSRNh",
      "execution_count": 9,
      "outputs": []
    },
    {
      "cell_type": "code",
      "source": [
        "from transformers import get_linear_schedule_with_warmup\n",
        "from torch.nn.utils.rnn import pad_sequence\n",
        "from torch.utils.data import DataLoader\n",
        "from tqdm import tqdm\n",
        "\n",
        "torch.manual_seed(0)\n",
        "\n",
        "SRC_VOCAB_SIZE = src_tokenizer.get_vocab_size()\n",
        "TGT_VOCAB_SIZE = tgt_tokenizer.get_vocab_size()\n",
        "EMB_SIZE = 312\n",
        "NHEAD = 8\n",
        "FFN_HID_DIM = 312\n",
        "BATCH_SIZE = 1024\n",
        "NUM_ENCODER_LAYERS = 3\n",
        "NUM_DECODER_LAYERS = 3\n",
        "NUM_EPOCHS = 5\n",
        "\n",
        "transformer = Seq2SeqTransformer(NUM_ENCODER_LAYERS, NUM_DECODER_LAYERS, EMB_SIZE,\n",
        "                                 NHEAD, SRC_VOCAB_SIZE, TGT_VOCAB_SIZE, FFN_HID_DIM)\n",
        "\n",
        "# function to collate data samples into batch tensors\n",
        "def collate_fn(batch):\n",
        "    src_batch, tgt_batch = [], []\n",
        "    for src_sample, tgt_sample in batch:\n",
        "        src_batch.append(torch.tensor(src_tokenizer.encode(src_sample).ids))\n",
        "        tgt_batch.append(torch.tensor(tgt_tokenizer.encode(tgt_sample).ids))\n",
        "\n",
        "    src_batch = pad_sequence(src_batch, padding_value=PAD_IDX)\n",
        "    tgt_batch = pad_sequence(tgt_batch, padding_value=PAD_IDX)\n",
        "    return src_batch, tgt_batch\n",
        "\n",
        "for p in transformer.parameters():\n",
        "    if p.dim() > 1:\n",
        "        nn.init.xavier_uniform_(p)\n",
        "\n",
        "transformer = transformer.to(DEVICE)\n",
        "\n",
        "loss_fn = torch.nn.CrossEntropyLoss(ignore_index=PAD_IDX)\n",
        "train_dataloader = DataLoader(train_pairs, batch_size=BATCH_SIZE, collate_fn=collate_fn, shuffle=True)\n",
        "val_dataloader = DataLoader(test_pairs, batch_size=BATCH_SIZE, collate_fn=collate_fn)\n",
        "\n",
        "optimizer = torch.optim.Adam(transformer.parameters(), lr=0.0001, betas=(0.9, 0.98), eps=1e-9)\n",
        "scheduler = get_linear_schedule_with_warmup(optimizer, num_warmup_steps=4000, num_training_steps=NUM_EPOCHS * len(train_dataloader))"
      ],
      "metadata": {
        "colab": {
          "base_uri": "https://localhost:8080/"
        },
        "id": "EJit82q5SRVj",
        "outputId": "0498b28c-4301-496a-e747-cd3d3ff35cd3"
      },
      "id": "EJit82q5SRVj",
      "execution_count": 40,
      "outputs": [
        {
          "output_type": "stream",
          "name": "stderr",
          "text": [
            "/usr/local/lib/python3.10/dist-packages/torch/nn/modules/transformer.py:306: UserWarning: enable_nested_tensor is True, but self.use_nested_tensor is False because encoder_layer.self_attn.batch_first was not True(use batch_first for better inference performance)\n",
            "  warnings.warn(f\"enable_nested_tensor is True, but self.use_nested_tensor is False because {why_not_sparsity_fast_path}\")\n"
          ]
        }
      ]
    },
    {
      "cell_type": "code",
      "source": [
        "def train_epoch(model, train_dataloader, optimizer):\n",
        "    model.train()\n",
        "    losses = 0\n",
        "\n",
        "    for src, tgt in tqdm(train_dataloader):\n",
        "        src = src.to(DEVICE)\n",
        "        tgt = tgt.to(DEVICE)\n",
        "\n",
        "        tgt_input = tgt[:-1, :]\n",
        "\n",
        "        src_mask, tgt_mask, src_padding_mask, tgt_padding_mask = create_mask(src, tgt_input)\n",
        "\n",
        "        logits = model(src, tgt_input, src_mask, tgt_mask,src_padding_mask, tgt_padding_mask, src_padding_mask)\n",
        "\n",
        "        optimizer.zero_grad()\n",
        "\n",
        "        tgt_out = tgt[1:, :]\n",
        "        loss = loss_fn(logits.reshape(-1, logits.shape[-1]), tgt_out.reshape(-1))\n",
        "        loss.backward()\n",
        "\n",
        "        optimizer.step()\n",
        "        scheduler.step()\n",
        "        losses += loss.item()\n",
        "\n",
        "    return losses / len(list(train_dataloader))\n",
        "\n",
        "\n",
        "def evaluate(model, val_dataloader):\n",
        "    model.eval()\n",
        "    losses = 0\n",
        "\n",
        "    for src, tgt in val_dataloader:\n",
        "        src = src.to(DEVICE)\n",
        "        tgt = tgt.to(DEVICE)\n",
        "\n",
        "        tgt_input = tgt[:-1, :]\n",
        "\n",
        "        src_mask, tgt_mask, src_padding_mask, tgt_padding_mask = create_mask(src, tgt_input)\n",
        "\n",
        "        logits = model(src, tgt_input, src_mask, tgt_mask,src_padding_mask, tgt_padding_mask, src_padding_mask)\n",
        "\n",
        "        tgt_out = tgt[1:, :]\n",
        "        loss = loss_fn(logits.reshape(-1, logits.shape[-1]), tgt_out.reshape(-1))\n",
        "        losses += loss.item()\n",
        "\n",
        "    return losses / len(list(val_dataloader))"
      ],
      "metadata": {
        "id": "UwYzlrf6BLsW"
      },
      "id": "UwYzlrf6BLsW",
      "execution_count": 41,
      "outputs": []
    },
    {
      "cell_type": "code",
      "source": [
        "import torchtext\n",
        "torchtext.disable_torchtext_deprecation_warning()\n",
        "from torchtext.data.metrics import bleu_score\n",
        "\n",
        "\n",
        "def calculate_bleu(data_loader, model, src_tokenizer, tgt_tokenizer):\n",
        "    model.eval()\n",
        "    targets = []\n",
        "    outputs = []\n",
        "\n",
        "    with torch.no_grad():\n",
        "        for src, tgt in tqdm(data_loader):\n",
        "            src = src.to(DEVICE)\n",
        "            tgt = tgt.to(DEVICE)\n",
        "            tgt_input = tgt[:-1, :]\n",
        "\n",
        "            src_mask, tgt_mask, src_padding_mask, tgt_padding_mask = create_mask(src, tgt_input)\n",
        "            logits = model(src, tgt_input, src_mask, tgt_mask, src_padding_mask, tgt_padding_mask, src_padding_mask)\n",
        "\n",
        "            tgt_out = tgt[1:, :]\n",
        "            predicted_ids = logits.argmax(2)\n",
        "            predicted_sentences = [[tgt_tokenizer.decode([p]) for p in pred.tolist()] for pred in predicted_ids.transpose(0, 1)]\n",
        "            target_sentences = [[tgt_tokenizer.decode([t]) for t in tgt.tolist()] for tgt in tgt_out.transpose(0, 1)]\n",
        "            #print(predicted_sentences)\n",
        "            #print(target_sentences)\n",
        "            outputs.extend(predicted_sentences)\n",
        "            targets.extend([[t] for t in target_sentences])\n",
        "            #break\n",
        "\n",
        "    return bleu_score(outputs, targets)"
      ],
      "metadata": {
        "id": "rkqqdZpIfNS4"
      },
      "id": "rkqqdZpIfNS4",
      "execution_count": 42,
      "outputs": []
    },
    {
      "cell_type": "code",
      "source": [
        "from timeit import default_timer as timer\n",
        "\n",
        "train_loss_history = []\n",
        "val_loss_history = []\n",
        "bleu_scores = []\n",
        "\n",
        "for epoch in range(1, NUM_EPOCHS+1):\n",
        "    start_time = timer()\n",
        "    train_loss = train_epoch(transformer, train_dataloader, optimizer)\n",
        "    train_loss_history.append(train_loss)\n",
        "    end_time = timer()\n",
        "    val_loss = evaluate(transformer, val_dataloader)\n",
        "    val_loss_history.append(val_loss)\n",
        "    bleu = calculate_bleu(val_dataloader, transformer, src_tokenizer, tgt_tokenizer)\n",
        "    bleu_scores.append(bleu)\n",
        "    print(f'Epoch [{epoch}/{NUM_EPOCHS+1}], Train Loss: {train_loss:.3f}, Val Loss: {val_loss:.3f}, BLEU: {bleu:.3f}')\n"
      ],
      "metadata": {
        "colab": {
          "base_uri": "https://localhost:8080/"
        },
        "id": "0FR8Gmq7BLvN",
        "outputId": "81fb29a5-6097-40f7-cdbb-811da1c001c9"
      },
      "id": "0FR8Gmq7BLvN",
      "execution_count": 43,
      "outputs": [
        {
          "output_type": "stream",
          "name": "stderr",
          "text": [
            "100%|██████████| 435/435 [03:44<00:00,  1.94it/s]\n",
            "100%|██████████| 49/49 [00:15<00:00,  3.10it/s]\n"
          ]
        },
        {
          "output_type": "stream",
          "name": "stdout",
          "text": [
            "Epoch [1/6], Train Loss: 7.350, Val Loss: 6.512, BLEU: 0.731\n"
          ]
        },
        {
          "output_type": "stream",
          "name": "stderr",
          "text": [
            "100%|██████████| 435/435 [03:43<00:00,  1.95it/s]\n",
            "100%|██████████| 49/49 [00:15<00:00,  3.09it/s]\n"
          ]
        },
        {
          "output_type": "stream",
          "name": "stdout",
          "text": [
            "Epoch [2/6], Train Loss: 6.024, Val Loss: 5.518, BLEU: 0.736\n"
          ]
        },
        {
          "output_type": "stream",
          "name": "stderr",
          "text": [
            "100%|██████████| 435/435 [03:44<00:00,  1.94it/s]\n",
            "100%|██████████| 49/49 [00:16<00:00,  3.05it/s]\n"
          ]
        },
        {
          "output_type": "stream",
          "name": "stdout",
          "text": [
            "Epoch [3/6], Train Loss: 5.279, Val Loss: 4.855, BLEU: 0.740\n"
          ]
        },
        {
          "output_type": "stream",
          "name": "stderr",
          "text": [
            "100%|██████████| 435/435 [03:44<00:00,  1.94it/s]\n",
            "100%|██████████| 49/49 [00:18<00:00,  2.68it/s]\n"
          ]
        },
        {
          "output_type": "stream",
          "name": "stdout",
          "text": [
            "Epoch [4/6], Train Loss: 4.690, Val Loss: 4.253, BLEU: 0.751\n"
          ]
        },
        {
          "output_type": "stream",
          "name": "stderr",
          "text": [
            "100%|██████████| 435/435 [03:50<00:00,  1.89it/s]\n",
            "100%|██████████| 49/49 [00:16<00:00,  2.89it/s]\n"
          ]
        },
        {
          "output_type": "stream",
          "name": "stdout",
          "text": [
            "Epoch [5/6], Train Loss: 4.149, Val Loss: 3.705, BLEU: 0.760\n"
          ]
        }
      ]
    },
    {
      "cell_type": "code",
      "source": [
        "import matplotlib.pyplot as plt\n",
        "\n",
        "epochs = range(1, NUM_EPOCHS + 1)\n",
        "\n",
        "plt.figure(figsize=(12, 4))\n",
        "\n",
        "plt.subplot(1, 2, 1)\n",
        "plt.plot(epochs, train_loss_history, label='Train Loss')\n",
        "plt.plot(epochs, val_loss_history, label='Validation Loss')\n",
        "plt.xlabel('Epochs')\n",
        "plt.ylabel('Loss')\n",
        "plt.title('Losses')\n",
        "plt.legend()\n",
        "\n",
        "plt.subplot(1, 2, 2)\n",
        "plt.plot(epochs, bleu_scores, label='BLEU Score')\n",
        "plt.xlabel('Epochs')\n",
        "plt.ylabel('BLEU Score')\n",
        "plt.title('BLEU Scores')\n",
        "plt.legend()\n",
        "\n",
        "plt.tight_layout()\n",
        "plt.show()\n"
      ],
      "metadata": {
        "colab": {
          "base_uri": "https://localhost:8080/",
          "height": 407
        },
        "id": "WWyvXF3K1HbP",
        "outputId": "b601bf0d-6b3e-412e-bef5-887dc2449417"
      },
      "id": "WWyvXF3K1HbP",
      "execution_count": 44,
      "outputs": [
        {
          "output_type": "display_data",
          "data": {
            "text/plain": [
              "<Figure size 1200x400 with 2 Axes>"
            ],
            "image/png": "[encoded data removed]"
          },
          "metadata": {}
        }
      ]
    },
    {
      "cell_type": "code",
      "source": [
        "def greedy_decode(model, src, src_mask, max_len, start_symbol):\n",
        "    src = src.to(DEVICE)\n",
        "    src_mask = src_mask.to(DEVICE)\n",
        "\n",
        "    memory = model.encode(src, src_mask)\n",
        "    ys = torch.ones(1, 1).fill_(start_symbol).type(torch.long).to(DEVICE)\n",
        "    for i in range(max_len-1):\n",
        "        memory = memory.to(DEVICE)\n",
        "        tgt_mask = (generate_square_subsequent_mask(ys.size(0))\n",
        "                    .type(torch.bool)).to(DEVICE)\n",
        "        out = model.decode(ys, memory, tgt_mask)\n",
        "        out = out.transpose(0, 1)\n",
        "        prob = model.generator(out[:, -1])\n",
        "        _, next_word = torch.max(prob, dim=1)\n",
        "        next_word = next_word.item()\n",
        "\n",
        "        ys = torch.cat([ys,\n",
        "                        torch.ones(1, 1).type_as(src.data).fill_(next_word)], dim=0)\n",
        "        if next_word == EOS_IDX:\n",
        "            break\n",
        "    return ys\n",
        "\n",
        "\n",
        "# actual function to translate input sentence into target language\n",
        "def translate(model: torch.nn.Module, src_sentence: str):\n",
        "    model.eval()\n",
        "    src = torch.tensor(src_tokenizer.encode(src_sentence).ids).view(-1, 1)\n",
        "    num_tokens = src.shape[0]\n",
        "    src_mask = (torch.zeros(num_tokens, num_tokens)).type(torch.bool)\n",
        "    tgt_tokens = greedy_decode(\n",
        "        model,  src, src_mask, max_len=num_tokens + 5, start_symbol=BOS_IDX).flatten()\n",
        "    return \" \".join([tgt_tokenizer.decode([t]) for t in list(tgt_tokens.cpu().numpy())]).replace(\"[BOS]\", \"\").replace(\"[EOS]\", \"\")"
      ],
      "metadata": {
        "id": "WsC0t9pZjf6_"
      },
      "id": "WsC0t9pZjf6_",
      "execution_count": 45,
      "outputs": []
    },
    {
      "cell_type": "code",
      "source": [
        "import numpy as np\n",
        "sample = np.random.choice(range(len(test_pairs)), 10)\n",
        "for i in sample:\n",
        "    print(\"Source:\", test_pairs[i][0])\n",
        "    print(\"Ground truth:\", test_pairs[i][1])\n",
        "    print(\"Translation:\", translate(transformer, test_pairs[i][0]))\n",
        "    print(\"-----\")"
      ],
      "metadata": {
        "colab": {
          "base_uri": "https://localhost:8080/"
        },
        "id": "kM9jNaGijhSi",
        "outputId": "e96cce31-70e5-4e04-b479-7b2fc320b8d5"
      },
      "id": "kM9jNaGijhSi",
      "execution_count": 46,
      "outputs": [
        {
          "output_type": "stream",
          "name": "stdout",
          "text": [
            "Source: the girl was afraid to jump down from the roof\n",
            "Ground truth: девочка боялась прыгнуть вниз с крыши\n",
            "Translation:  собака был очень по французски с ним на ко р \n",
            "-----\n",
            "Source: which one did tom give you that one\n",
            "Ground truth: какой том тебе дал тот\n",
            "Translation:  сколько том тебе это сделал \n",
            "-----\n",
            "Source: tom s horse is a lot faster than mine\n",
            "Ground truth: лошадь тома намного быстрее моей\n",
            "Translation:  у тома есть много денег \n",
            "-----\n",
            "Source: every rule has its exceptions\n",
            "Ground truth: у каждого правила есть свои исключения\n",
            "Translation:  у нас есть есть про ди е у него есть \n",
            "-----\n",
            "Source: i told tom i was going to australia\n",
            "Ground truth: я сказал тому что еду в австралию\n",
            "Translation:  я сказал тому что я был в австралии \n",
            "-----\n",
            "Source: tom lent thirty dollars to me yesterday\n",
            "Ground truth: том одолжил мне вчера тридцать долларов\n",
            "Translation:  том любит меня на меня на меня вчера \n",
            "-----\n",
            "Source: tom is stronger than i am\n",
            "Ground truth: том сильнее меня\n",
            "Translation:  том сделал меня \n",
            "-----\n",
            "Source: i wonder where tom learned how to do that\n",
            "Ground truth: интересно где том этому научился\n",
            "Translation:  интересно где том это сделать \n",
            "-----\n",
            "Source: i didn t know about the meeting\n",
            "Ground truth: я не знал о собрании\n",
            "Translation:  я не знал что мы на нас на \n",
            "-----\n",
            "Source: may i ask you a favor\n",
            "Ground truth: можно попросить тебя об одном одолжении\n",
            "Translation:  можно мне тебя за ру \n",
            "-----\n"
          ]
        }
      ]
    }
  ],
  "metadata": {
    "kernelspec": {
      "display_name": "Python 3",
      "name": "python3"
    },
    "language_info": {
      "codemirror_mode": {
        "name": "ipython",
        "version": 3
      },
      "file_extension": ".py",
      "mimetype": "text/x-python",
      "name": "python",
      "nbconvert_exporter": "python",
      "pygments_lexer": "ipython3",
      "version": "3.9.7"
    },
    "colab": {
      "provenance": [],
      "gpuType": "T4"
    },
    "accelerator": "GPU"
  },
  "nbformat": 4,
  "nbformat_minor": 5
}